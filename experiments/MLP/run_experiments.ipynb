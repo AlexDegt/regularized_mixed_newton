{
 "metadata": {
  "colab": {
   "provenance": [],
   "gpuType": "T4",
   "authorship_tag": "ABX9TyOq/ngCa4QOfF5v9PwYHCkX"
  },
  "kernelspec": {
   "name": "python3",
   "display_name": "Python 3",
   "language": "python"
  },
  "language_info": {
   "name": "python",
   "version": "3.10.13",
   "mimetype": "text/x-python",
   "codemirror_mode": {
    "name": "ipython",
    "version": 3
   },
   "pygments_lexer": "ipython3",
   "nbconvert_exporter": "python",
   "file_extension": ".py"
  },
  "accelerator": "GPU",
  "kaggle": {
   "accelerator": "none",
   "dataSources": [],
   "dockerImageVersionId": 30698,
   "isInternetEnabled": true,
   "language": "python",
   "sourceType": "notebook",
   "isGpuEnabled": false
  }
 },
 "nbformat_minor": 4,
 "nbformat": 4,
 "cells": [
  {
   "cell_type": "code",
   "source": [
    "from libsvmdata import fetch_libsvm\n",
    "import torch\n",
    "import torch.nn as nn\n",
    "from sklearn.model_selection import train_test_split\n",
    "from sklearn.preprocessing import StandardScaler\n",
    "from torch.utils.data import DataLoader, TensorDataset\n",
    "import os\n",
    "\n",
    "from trainer import train"
   ],
   "metadata": {
    "id": "0lndf86iyqVW",
    "executionInfo": {
     "status": "ok",
     "timestamp": 1716199835085,
     "user_tz": -180,
     "elapsed": 4067,
     "user": {
      "displayName": "Anna Lisachenko",
      "userId": "02468641400863824289"
     }
    },
    "trusted": true
   },
   "execution_count": null,
   "outputs": []
  },
  {
   "cell_type": "code",
   "source": [
    "X, y = fetch_libsvm(\"abalone_scale\")\n",
    "X.shape"
   ],
   "metadata": {
    "colab": {
     "base_uri": "https://localhost:8080/"
    },
    "id": "TywWmgFO0Xlm",
    "executionInfo": {
     "status": "ok",
     "timestamp": 1716199838095,
     "user_tz": -180,
     "elapsed": 3013,
     "user": {
      "displayName": "Anna Lisachenko",
      "userId": "02468641400863824289"
     }
    },
    "outputId": "84e8fe87-53a2-4587-e8b7-aac79236568f",
    "trusted": true
   },
   "execution_count": null,
   "outputs": []
  },
  {
   "cell_type": "code",
   "source": [
    "X_train, X_test, y_train, y_test = train_test_split(X, y.reshape(-1, 1), test_size=0.2, random_state=42)\n",
    "\n",
    "scaler = StandardScaler()\n",
    "y_train_scaled = scaler.fit_transform(y_train)\n",
    "y_test_scaled = scaler.transform(y_test)\n",
    "\n",
    "device = torch.device(\"cuda\" if torch.cuda.is_available() else \"cpu\")\n",
    "\n",
    "X_train_tensor = torch.tensor(X_train, dtype=torch.float32).unsqueeze(-1).to(device)\n",
    "y_train_tensor = torch.tensor(y_train_scaled, dtype=torch.float32).unsqueeze(-1).to(device)\n",
    "X_test_tensor = torch.tensor(X_test, dtype=torch.float32).unsqueeze(-1).to(device)\n",
    "y_test_tensor = torch.tensor(y_test_scaled, dtype=torch.float32).unsqueeze(-1).to(device)\n",
    "\n",
    "BATCH_SIZE = X_train_tensor.shape[0]\n",
    "\n",
    "train_data_real = DataLoader(TensorDataset(X_train_tensor, y_train_tensor), batch_size=BATCH_SIZE, shuffle=True)\n",
    "test_data_real = DataLoader(TensorDataset(X_test_tensor, y_test_tensor), batch_size=BATCH_SIZE, shuffle=False)\n",
    "train_data_complex = DataLoader(TensorDataset(X_train_tensor.type(torch.complex64), y_train_tensor.type(torch.complex64)), batch_size=BATCH_SIZE, shuffle=True)\n",
    "test_data_complex = DataLoader(TensorDataset(X_test_tensor.type(torch.complex64), y_test_tensor.type(torch.complex64)), batch_size=BATCH_SIZE, shuffle=False)\n",
    "\n",
    "device"
   ],
   "metadata": {
    "id": "r0F_XkY20jAp",
    "executionInfo": {
     "status": "ok",
     "timestamp": 1716199838461,
     "user_tz": -180,
     "elapsed": 369,
     "user": {
      "displayName": "Anna Lisachenko",
      "userId": "02468641400863824289"
     }
    },
    "trusted": true
   },
   "execution_count": null,
   "outputs": []
  },
  {
   "cell_type": "code",
   "source": [
    "def make_complex64(layers):\n",
    "    for layer in layers:\n",
    "        layer.weight.data = layer.weight.data.type(torch.complex64)\n",
    "        layer.bias.data = layer.bias.data.type(torch.complex64)\n",
    "\n",
    "def normal_init_weights(layers, std):\n",
    "    mean = 0\n",
    "    for layer in layers:\n",
    "        nn.init.normal_(layer.weight.data, mean, std)\n",
    "        if layer.bias is not None:\n",
    "            nn.init.normal_(layer.bias.data, mean, std)\n",
    "\n",
    "def init_complex_zero_imaginary(layers, std):\n",
    "    mean = 0\n",
    "    for layer in layers:\n",
    "        real_part = torch.normal(mean, std, size=layer.weight.data.shape)\n",
    "        layer.weight.data = torch.complex(real_part, torch.zeros_like(real_part))\n",
    "        if layer.bias is not None:\n",
    "            real_part = torch.normal(mean, std, size=layer.bias.data.shape)\n",
    "            layer.bias.data = torch.complex(real_part, torch.zeros_like(real_part))\n",
    "\n",
    "def init_complex_zero_real(layers, std):\n",
    "    mean = 0\n",
    "    for layer in layers:\n",
    "        imag_part = torch.normal(mean, std, size=layer.weight.data.shape)\n",
    "        layer.weight.data = torch.complex(torch.zeros_like(imag_part), imag_part)\n",
    "        if layer.bias is not None:\n",
    "            imag_part = torch.normal(mean, std, size=layer.bias.data.shape)\n",
    "            layer.bias.data = torch.complex(torch.zeros_like(imag_part), imag_part)"
   ],
   "metadata": {
    "id": "MaV7kS7i2fvz",
    "executionInfo": {
     "status": "aborted",
     "timestamp": 1716201304402,
     "user_tz": -180,
     "elapsed": 5,
     "user": {
      "displayName": "Anna Lisachenko",
      "userId": "02468641400863824289"
     }
    },
    "trusted": true
   },
   "execution_count": null,
   "outputs": []
  },
  {
   "cell_type": "code",
   "source": [
    "class RegressionNN(nn.Module):\n",
    "    def __init__(self, input_size, hidden_size,\n",
    "                 complex_weights=False,\n",
    "                 zero_imaginary_init=False,\n",
    "                 zero_real_init=False,\n",
    "                 std=1):\n",
    "        super().__init__()\n",
    "        self.fc1 = nn.Linear(input_size, hidden_size)\n",
    "        self.fc2 = nn.Linear(hidden_size, 1)\n",
    "        self.activation = nn.Tanh()\n",
    "\n",
    "        if complex_weights:\n",
    "            make_complex64([self.fc1, self.fc2])\n",
    "            if zero_imaginary_init:\n",
    "                init_complex_zero_imaginary([self.fc1, self.fc2], std)\n",
    "            elif zero_real_init:\n",
    "                init_complex_zero_real([self.fc1, self.fc2], std)\n",
    "            else:\n",
    "                normal_init_weights([self.fc1, self.fc2], std)\n",
    "        else:\n",
    "            normal_init_weights([self.fc1, self.fc2], std)\n",
    "\n",
    "\n",
    "    def forward(self, x):\n",
    "        x_in = x.squeeze(-1)\n",
    "        h = self.activation(self.fc1(x_in))\n",
    "        out = self.fc2(h)\n",
    "        return out.unsqueeze(-1)"
   ],
   "metadata": {
    "id": "C0Wpb88W3stQ",
    "executionInfo": {
     "status": "ok",
     "timestamp": 1716199838461,
     "user_tz": -180,
     "elapsed": 3,
     "user": {
      "displayName": "Anna Lisachenko",
      "userId": "02468641400863824289"
     }
    },
    "trusted": true
   },
   "execution_count": null,
   "outputs": []
  },
  {
   "cell_type": "code",
   "source": [
    "alpha = 0.0\n",
    "\n",
    "def batch_to_tensors(batch):\n",
    "    return batch[0], batch[1], torch.tensor([])\n",
    "\n",
    "def complex_mse_loss(d, y, model):\n",
    "    return (d - y).abs().square().sum() + alpha * sum(torch.norm(p)**2 for p in model.parameters())\n",
    "\n",
    "def loss(model, signal_batch):\n",
    "    x, d, _ = batch_to_tensors(signal_batch)\n",
    "    return complex_mse_loss(d, model(x), model)\n",
    "\n",
    "def r2_score_complex(y_true, y_pred):\n",
    "    mean_true = y_true.mean()\n",
    "    total_sum_squares = (y_true - mean_true).abs().square().sum()\n",
    "    residual_sum_squares = (y_true - y_pred).abs().square().sum()\n",
    "    r2 = 1 - (residual_sum_squares / total_sum_squares)\n",
    "\n",
    "    return r2.item()\n",
    "\n",
    "def criterion(model, dataset):\n",
    "    ds = []\n",
    "    ys = []\n",
    "    for batch in dataset:\n",
    "        x, d, _ = batch_to_tensors(batch)\n",
    "        ds.append(d.squeeze(0, 1).detach())\n",
    "        ys.append(model(x).squeeze(0, 1).detach())\n",
    "    d = torch.cat(ds, dim=0)\n",
    "    y = torch.cat(ys, dim=0)\n",
    "    return r2_score_complex(d, y)"
   ],
   "metadata": {
    "id": "KsCk1y3M3vM_",
    "executionInfo": {
     "status": "ok",
     "timestamp": 1716199838461,
     "user_tz": -180,
     "elapsed": 3,
     "user": {
      "displayName": "Anna Lisachenko",
      "userId": "02468641400863824289"
     }
    },
    "trusted": true
   },
   "execution_count": null,
   "outputs": []
  },
  {
   "cell_type": "code",
   "source": [
    "def create_and_train_model(hidden_size, complex_weights, train_type, random_seed, dir_name, std,\n",
    "                          zero_imaginary_init=False,\n",
    "                          zero_real_init=False,\n",
    "                          note=\"usual\"):\n",
    "    torch.manual_seed(random_seed)\n",
    "    model = RegressionNN(X_train.shape[1],\n",
    "                         hidden_size,\n",
    "                         complex_weights=complex_weights,\n",
    "                         zero_imaginary_init=zero_imaginary_init,\n",
    "                         zero_real_init=zero_real_init,\n",
    "                         std=std).to(device)\n",
    "    \n",
    "    for parameter in model.parameters():\n",
    "        print(parameter)\n",
    "\n",
    "    if complex_weights:\n",
    "        train_data = train_data_complex\n",
    "        val_data = train_data_complex\n",
    "        test_data = test_data_complex\n",
    "    else:\n",
    "        train_data = train_data_real\n",
    "        val_data = train_data_real\n",
    "        test_data = test_data_real\n",
    "\n",
    "    if train_type == 'newton_lev_marq' or train_type == 'cubic_newton':\n",
    "        strategy='reverse-mode'\n",
    "    else:\n",
    "        strategy='forward-mode'\n",
    "    \n",
    "    print(strategy)\n",
    "\n",
    "    model_type = f'{\"complex\" if complex_weights else \"real\"}_hidden={hidden_size}_std={std}'\n",
    "    exp_name = f'{model_type}_{train_type}_{note}_{random_seed}'\n",
    "\n",
    "    save_path = f'results_{dir_name}/{exp_name}/'\n",
    "\n",
    "    if not os.path.exists(save_path):\n",
    "        os.makedirs(save_path, exist_ok=True)\n",
    "\n",
    "    _, best_ctrierion = train(model, train_data, loss, criterion, {}, batch_to_tensors=batch_to_tensors, validate_dataset=val_data, test_dataset=test_data, train_type=train_type, save_path=save_path, exp_name=exp_name, chunk_num=1, save_every=1, jac_calc_strat=strategy)\n",
    "\n",
    "    print(best_ctrierion)"
   ],
   "metadata": {
    "id": "oHbSp0Zi3yOt",
    "executionInfo": {
     "status": "ok",
     "timestamp": 1716199838461,
     "user_tz": -180,
     "elapsed": 3,
     "user": {
      "displayName": "Anna Lisachenko",
      "userId": "02468641400863824289"
     }
    },
    "trusted": true
   },
   "execution_count": null,
   "outputs": []
  },
  {
   "cell_type": "code",
   "source": [
    "dir_name=\"test\"\n",
    "\n",
    "for trainer in ['mnm_lev_marq', 'newton_lev_marq', 'cubic_newton', 'cubic_newton_simple']:\n",
    "    for seed in range(1, 6):\n",
    "        create_and_train_model(10, True, trainer, seed,\n",
    "                               dir_name=dir_name,\n",
    "                               note=\"\",\n",
    "                               std=0.1)\n",
    "        \n",
    "for trainer in ['cubic_newton']:\n",
    "    for seed in range(1, 6):\n",
    "        create_and_train_model(10, False, trainer, seed,\n",
    "                               dir_name=dir_name,\n",
    "                               note=\"\",\n",
    "                               std=0.1)"
   ],
   "metadata": {
    "colab": {
     "base_uri": "https://localhost:8080/",
     "height": 1000
    },
    "id": "bFU9XEfm31NA",
    "executionInfo": {
     "status": "error",
     "timestamp": 1716201304400,
     "user_tz": -180,
     "elapsed": 211749,
     "user": {
      "displayName": "Anna Lisachenko",
      "userId": "02468641400863824289"
     }
    },
    "outputId": "59b98d25-fc02-4156-d0b0-33f2b60359b3",
    "trusted": true
   },
   "execution_count": null,
   "outputs": []
  }
 ]
}
