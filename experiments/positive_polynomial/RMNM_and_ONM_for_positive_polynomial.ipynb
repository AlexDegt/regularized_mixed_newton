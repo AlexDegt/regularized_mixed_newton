{
 "cells": [
  {
   "cell_type": "code",
   "execution_count": 1,
   "id": "02edfe8f",
   "metadata": {},
   "outputs": [],
   "source": [
    "import math\n",
    "import numpy as np\n",
    "import cmath as cm\n",
    "\n",
    "import matplotlib.pyplot as plt\n",
    "from datetime import datetime"
   ]
  },
  {
   "cell_type": "code",
   "execution_count": 2,
   "id": "8fd7617b",
   "metadata": {},
   "outputs": [],
   "source": [
    "### The objective function f_1\n",
    "def f(x):\n",
    "    a = np.array([2, -3])\n",
    "    return (np.dot(a, x))**2 + sum([ x[i]**2 * (1-x[i])**2 for i in range(len(x))])\n",
    "\n",
    "def grad_f(x):\n",
    "    return np.array([10*x[0] - 6*x[0]**2 + 4*x[0]**3 - 12*x[1] , 20*x[1] - 6*x[1]**2 + 4*x[1]**3 - 12*x[0] ])\n",
    "    \n",
    "def hess_f(x):\n",
    "    return np.array([\n",
    "        [10 - 12*x[0] + 12*x[0]**2 , -12 ],\n",
    "        [-12 , 20 - 12*x[1] + 12*x[1]**2 ]\n",
    "    ])\n",
    "\n",
    "def f_comp(z): # z \\in C^2\n",
    "    a = np.array([2, -3])\n",
    "    return (np.dot(a, z))**2 + sum([ z[i]**2 * (1-z[i])**2 for i in range(len(z))])\n",
    "\n",
    "def grad_f_comp(z):\n",
    "    return np.array([10*z[0] - 6*z[0]**2 + 4*z[0]**3 - 12*z[1] , 20*z[1] - 6*z[1]**2 + 4*z[1]**3 - 12*z[0] ])\n",
    "\n",
    "##############################################################\n",
    "### The objective function f_2\n",
    "# def f(x):\n",
    "#     return (x[0] - x[1])**2 + (x[0]*(1-x[0]))**2 + (x[1]*(2-x[1]))**2\n",
    "\n",
    "# def grad_f(x):\n",
    "#     return np.array([4*x[0]**3 - 6*x[0]**2 +4*x[0] - 2*x[1], 4*x[1]**3 - 12*x[1]**2 + 10*x[1] - 2*x[0] ])\n",
    "    \n",
    "# def hess_f(x):\n",
    "#     return np.array([\n",
    "#         [12*x[0]**2 - 12*x[0] + 4 , -2 ],\n",
    "#         [-2 , 12*x[1]**2 - 24*x[1] + 10 ]\n",
    "#     ])\n",
    "\n",
    "# def f_comp(z): # z \\in C^2\n",
    "#     return (z[0] - z[1])**2 + (z[0]*(1-z[0]))**2 + (z[1]*(2-z[1]))**2\n",
    "\n",
    "# def grad_f_comp(z):\n",
    "#     return np.array([4*z[0]**3 - 6*z[0]**2 +4*z[0] - 2*z[1], 4*z[1]**3 - 12*z[1]**2 + 10*z[1] - 2*z[0] ])"
   ]
  },
  {
   "cell_type": "code",
   "execution_count": 3,
   "id": "af880c9c",
   "metadata": {},
   "outputs": [
    {
     "name": "stdout",
     "output_type": "stream",
     "text": [
      "f(global min) = 0\n",
      "f(local min) = 0.04604962317333992\n",
      "f(saddle point) = 0.11524988373914094\n"
     ]
    }
   ],
   "source": [
    "### for f_1\n",
    "global_min = np.array([0,0])               ### we take the min_1 from the list of minimums\n",
    "localmin_1 = np.array([1.04987, 0.709507]) ### we take the min_2 from the list of minimums\n",
    "saddle_point = np.array([0.57788, 0.37892])\n",
    "\n",
    "global_min_com = np.array([ global_min[0] + 0*1j, global_min[1] + 0*1j ])\n",
    "local_min_com = np.array([ localmin_1[0] + 0*1j, localmin_1[1] + 0*1j ])\n",
    "saddle_point_com = np.array([saddle_point[0] + 0*1j, saddle_point[1] + 0*1j])\n",
    "\n",
    "print ('f(global min) =' , f(global_min))\n",
    "print ('f(local min) =' , f(localmin_1))\n",
    "print ('f(saddle point) =' , f(saddle_point))\n",
    "\n",
    "##################################\n",
    "### for f_2 \n",
    "# global_min = np.array([0,0])                  ### we take the min_1 from the list of minimums\n",
    "# localmin_1 = np.array([1.27473, 1.81735])      ### we take the min_2 from the list of minimums\n",
    "# saddle_point = np.array([1, 1])\n",
    "\n",
    "# global_min_com = np.array([ global_min[0] + 0*1j, global_min[1] + 0*1j ])\n",
    "# local_min_com = np.array([ localmin_1[0] + 0*1j, localmin_1[1] + 0*1j ])\n",
    "# saddle_point_com = np.array([saddle_point[0] + 0*1j, saddle_point[1] + 0*1j])\n",
    "\n",
    "# print ('f(global min) =' , f(global_min))\n",
    "# print ('f(local min) =' , f(localmin_1))\n",
    "# print ('f(saddle point) =' , f(saddle_point))"
   ]
  },
  {
   "cell_type": "code",
   "execution_count": 4,
   "id": "6332db66",
   "metadata": {},
   "outputs": [
    {
     "name": "stdout",
     "output_type": "stream",
     "text": [
      "The number of real intial points    = 625\n",
      "The number of complex intial points = 625\n"
     ]
    }
   ],
   "source": [
    "### for generating the intial points\n",
    "h_ = 0.13\n",
    "a_1 = -1\n",
    "b_1 = 2\n",
    "a_2 = -1\n",
    "b_2 = 2\n",
    "\n",
    "Initial_points_reals = []\n",
    "for s in np.arange(a_1, b_1 + h_, h_):\n",
    "    for t in np.arange(a_2, b_2 + h_, h_):\n",
    "        #z0 = np.array([s,t])\n",
    "        z0 = s + 1j*t\n",
    "        Initial_points_reals.append(z0)\n",
    "print('The number of real intial points    =' , len(Initial_points_reals))\n",
    "\n",
    "Initial_points_complex = []\n",
    "d_ = 0   # the imaginary part of the coordinates of the items of the initial points.\n",
    "for s in np.arange(a_1, b_1 + h_, h_):\n",
    "    for t in np.arange(a_2, b_2 + h_, h_):\n",
    "        z0 = np.array([s + d_*1j, t + d_*1j])\n",
    "        Initial_points_complex.append(z0)\n",
    "print('The number of complex intial points =' , len(Initial_points_complex))"
   ]
  },
  {
   "cell_type": "code",
   "execution_count": 5,
   "id": "e74b1238",
   "metadata": {},
   "outputs": [],
   "source": [
    "#Initial_points_reals"
   ]
  },
  {
   "cell_type": "code",
   "execution_count": 6,
   "id": "fa782952",
   "metadata": {},
   "outputs": [],
   "source": [
    "#Initial_points_complex"
   ]
  },
  {
   "cell_type": "code",
   "execution_count": 7,
   "id": "7192d347",
   "metadata": {},
   "outputs": [],
   "source": [
    "R = 1000 # for the stopping in the case of divergence"
   ]
  },
  {
   "cell_type": "code",
   "execution_count": 8,
   "id": "2e250286",
   "metadata": {},
   "outputs": [
    {
     "name": "stdout",
     "output_type": "stream",
     "text": [
      "Time (seconds)= 1.332178\n"
     ]
    }
   ],
   "source": [
    "### Ordinary Newton method \n",
    "\n",
    "points_to_local_1   = []    # convergence to local min 1\n",
    "points_to_global    = []    #  convergence to global min  \n",
    "points_to_saddle    = []    #  convergence to saddle point\n",
    "divergence_points   = []    # the points in the case of divergence\n",
    "not_conver_points   = []    # the points in the case when there is not a covergence after 10^6 iterations\n",
    "\n",
    "start_time = datetime.now()\n",
    "for z0 in Initial_points_reals :\n",
    "    z = np.array([z0.real, z0.imag])\n",
    "\n",
    "    k = 0\n",
    "        \n",
    "    while (np.linalg.norm(z - localmin_1) > 1e-5 and np.linalg.norm(z - global_min) > 1e-5\n",
    "           and np.linalg.norm(z - saddle_point) > 1e-5 ) :\n",
    "\n",
    "        ### the iterations\n",
    "        inverse = np.linalg.inv( np.array(np.matrix(grad_f(z)).T * np.matrix(grad_f(z))) \n",
    "                              + f(z)*hess_f(z) )                                 # the inverse in MNM\n",
    "        z1 = z - np.dot(inverse, np.dot(f(z), grad_f(z)))\n",
    "        z = z1\n",
    "        k += 1\n",
    "            \n",
    "        if (np.linalg.norm(z - localmin_1) <= 1e-5):\n",
    "            points_to_local_1.append([z0.real, z0.imag])     \n",
    "            break\n",
    "\n",
    "        if (np.linalg.norm(z - global_min) <= 1e-5):\n",
    "            points_to_global.append([z0.real, z0.imag])\n",
    "            break\n",
    "            \n",
    "        if (np.linalg.norm(z - saddle_point) <= 1e-5):\n",
    "            points_to_saddle.append([z0.real, z0.imag])\n",
    "            break\n",
    "\n",
    "        if (np.linalg.norm(z) >= R):\n",
    "            divergence_points.append([z0.real, z0.imag])\n",
    "            break\n",
    "            \n",
    "        if (k >= 10**6):\n",
    "            not_conver_points.append([z0.real, z0.imag])\n",
    "            break\n",
    "    \n",
    "end_time=datetime.now()\n",
    "Time_work = (end_time-start_time).total_seconds()  \n",
    "print ('Time (seconds)=' , Time_work)"
   ]
  },
  {
   "cell_type": "code",
   "execution_count": 9,
   "id": "e38cb824",
   "metadata": {},
   "outputs": [
    {
     "name": "stdout",
     "output_type": "stream",
     "text": [
      "The number of initial points for convergence to local min 1 = 319\n"
     ]
    }
   ],
   "source": [
    "print ('The number of initial points for convergence to local min 1 =' , len(points_to_local_1))   "
   ]
  },
  {
   "cell_type": "code",
   "execution_count": 10,
   "id": "491bc05d",
   "metadata": {},
   "outputs": [
    {
     "name": "stdout",
     "output_type": "stream",
     "text": [
      "The number of initial points for convergence to global min = 276\n"
     ]
    }
   ],
   "source": [
    "print ('The number of initial points for convergence to global min =' , len(points_to_global))   "
   ]
  },
  {
   "cell_type": "code",
   "execution_count": 11,
   "id": "dc5bd60f",
   "metadata": {},
   "outputs": [
    {
     "name": "stdout",
     "output_type": "stream",
     "text": [
      "The number of initial points for convergence to saddle point = 30\n"
     ]
    }
   ],
   "source": [
    "print ('The number of initial points for convergence to saddle point =' , len(points_to_saddle))    "
   ]
  },
  {
   "cell_type": "code",
   "execution_count": 12,
   "id": "597aacd7",
   "metadata": {},
   "outputs": [
    {
     "data": {
      "text/plain": [
       "[[-0.35, 1.4700000000000002],\n",
       " [-0.08999999999999997, 1.21],\n",
       " [0.16999999999999993, 0.8200000000000001],\n",
       " [0.16999999999999993, 0.9500000000000002],\n",
       " [0.30000000000000004, 0.30000000000000004],\n",
       " [0.30000000000000004, 0.43000000000000016],\n",
       " [0.30000000000000004, 0.56],\n",
       " [0.30000000000000004, 0.69],\n",
       " [0.30000000000000004, 0.8200000000000001],\n",
       " [0.43000000000000016, 0.16999999999999993],\n",
       " [0.43000000000000016, 0.30000000000000004],\n",
       " [0.43000000000000016, 0.43000000000000016],\n",
       " [0.43000000000000016, 0.56],\n",
       " [0.43000000000000016, 0.69],\n",
       " [0.43000000000000016, 0.8200000000000001],\n",
       " [0.56, 0.16999999999999993],\n",
       " [0.56, 0.30000000000000004],\n",
       " [0.56, 0.43000000000000016],\n",
       " [0.56, 0.56],\n",
       " [0.56, 0.69],\n",
       " [0.56, 0.8200000000000001],\n",
       " [0.69, 0.16999999999999993],\n",
       " [0.69, 0.30000000000000004],\n",
       " [0.69, 0.43000000000000016],\n",
       " [0.69, 0.56],\n",
       " [0.69, 0.69],\n",
       " [0.69, 0.8200000000000001],\n",
       " [0.9500000000000002, -0.08999999999999997],\n",
       " [1.08, -0.21999999999999997],\n",
       " [1.3399999999999999, -0.48]]"
      ]
     },
     "execution_count": 12,
     "metadata": {},
     "output_type": "execute_result"
    }
   ],
   "source": [
    "points_to_saddle"
   ]
  },
  {
   "cell_type": "code",
   "execution_count": 13,
   "id": "853786a4",
   "metadata": {},
   "outputs": [
    {
     "name": "stdout",
     "output_type": "stream",
     "text": [
      "The number of initial points for divergence = 0\n"
     ]
    }
   ],
   "source": [
    "print ('The number of initial points for divergence =' , len(divergence_points))  "
   ]
  },
  {
   "cell_type": "code",
   "execution_count": 14,
   "id": "f6bfa374",
   "metadata": {},
   "outputs": [
    {
     "data": {
      "text/plain": [
       "[]"
      ]
     },
     "execution_count": 14,
     "metadata": {},
     "output_type": "execute_result"
    }
   ],
   "source": [
    "divergence_points"
   ]
  },
  {
   "cell_type": "code",
   "execution_count": 15,
   "id": "1174d788",
   "metadata": {},
   "outputs": [
    {
     "name": "stdout",
     "output_type": "stream",
     "text": [
      "The number of initial points for not convergence after 1000000 iterations = 0\n"
     ]
    }
   ],
   "source": [
    "print ('The number of initial points for not convergence after 1000000 iterations =' , len(not_conver_points))  "
   ]
  },
  {
   "cell_type": "code",
   "execution_count": 16,
   "id": "ad8fd35e",
   "metadata": {},
   "outputs": [
    {
     "data": {
      "text/plain": [
       "[]"
      ]
     },
     "execution_count": 16,
     "metadata": {},
     "output_type": "execute_result"
    }
   ],
   "source": [
    "not_conver_points"
   ]
  },
  {
   "cell_type": "code",
   "execution_count": 17,
   "id": "8e5cce7e",
   "metadata": {},
   "outputs": [
    {
     "data": {
      "image/png": "[encoded data removed]",
      "text/plain": [
       "<Figure size 720x576 with 1 Axes>"
      ]
     },
     "metadata": {
      "needs_background": "light"
     },
     "output_type": "display_data"
    }
   ],
   "source": [
    "plt.figure(figsize=(10, 8))\n",
    "\n",
    "x_local_min1 = [w[0] for w in points_to_local_1]      # local min\n",
    "y_local_min1 = [w[1] for w in points_to_local_1]\n",
    "\n",
    "x_global_min = [w[0] for w in points_to_global]       # global min\n",
    "y_global_min = [w[1] for w in points_to_global] \n",
    "\n",
    "x_saddle = [w[0] for w in points_to_saddle]           # saddle point\n",
    "y_saddle = [w[1] for w in points_to_saddle] \n",
    "\n",
    "x_divergence = [w[0] for w in divergence_points]      # divergence\n",
    "y_divergence = [w[1] for w in divergence_points]\n",
    "\n",
    "x_not_convergence = [w[0] for w in not_conver_points] # not converence after 10000 iters\n",
    "y_not_convergence = [w[1] for w in not_conver_points]\n",
    "\n",
    "plt.axis([a_1, b_1, a_2, b_2])\n",
    "#plt.grid(1)\n",
    "\n",
    "\n",
    "plt.scatter(x_global_min, y_global_min, label=\"conver. to global\", color=\"y\")   \n",
    "plt.scatter(x_local_min1, y_local_min1, label = \"conver. to local\", color=\"cyan\")\n",
    "plt.scatter(x_saddle, y_saddle, label = \"conver. to saddle\", color=\"blue\")\n",
    "\n",
    "plt.scatter(localmin_1[0], localmin_1[1], label=\"local min\", color=\"red\")  \n",
    "plt.scatter(global_min[0], global_min[1], label=\"global min\", color=\"black\")\n",
    "plt.scatter(saddle_point[0], saddle_point[1], label=\"saddle point\", color=\"magenta\")\n",
    "\n",
    "\n",
    "plt.scatter(x_divergence, y_divergence, label=\"divergence\", color=\"orange\") \n",
    "plt.scatter(x_not_convergence, y_not_convergence, label=\"not conv. after 1m iter.\", color=\"brown\")\n",
    "\n",
    "plt.legend(loc='upper center', bbox_to_anchor=(0.5, -0.07),\n",
    "          fancybox=True, shadow=True, ncol=5)\n",
    "\n",
    "#plt.title ('title')\n",
    "\n",
    "plt.show()"
   ]
  },
  {
   "cell_type": "code",
   "execution_count": null,
   "id": "dece3d31",
   "metadata": {},
   "outputs": [],
   "source": []
  },
  {
   "cell_type": "code",
   "execution_count": 18,
   "id": "8df218c9",
   "metadata": {},
   "outputs": [
    {
     "name": "stdout",
     "output_type": "stream",
     "text": [
      "Time (seconds)= 452.835489\n"
     ]
    }
   ],
   "source": [
    "### Mixed Newton method with regulirization\n",
    "gamma = 1e-3\n",
    "\n",
    "comp_points_to_local_1   = []    # convergence to local min\n",
    "comp_points_to_global    = []    #  convergence global min \n",
    "comp_points_to_saddle    = []    #  convergence to saddle point\n",
    "comp_divergence_points   = []    # the points in the case of divergence\n",
    "comp_not_conver_points   = []    # the points in the case when there is not a covergence after 10^6 iterations\n",
    "\n",
    "\n",
    "start_time = datetime.now()\n",
    "for z0 in Initial_points_complex:\n",
    "    z = z0\n",
    "\n",
    "    k = 0\n",
    "        \n",
    "    while (np.linalg.norm(z - local_min_com) > 1e-5 and np.linalg.norm(z - global_min_com) > 1e-5 \n",
    "          and np.linalg.norm(z - saddle_point_com) > 1e-5 ) :\n",
    "\n",
    "        ### the iterations\n",
    "        cosh_matrix  = np.array( [ [np.cosh(2*(z[0].imag)) , 0 ], [0 , np.cosh(2*(z[1].imag)) ] ])\n",
    "        inverse_term = np.linalg.inv( np.array( np.conjugate(np.matrix(grad_f_comp(z)).T) * np.matrix(grad_f_comp(z)) ) \\\n",
    "                              + 2*(gamma**2)*cosh_matrix )\n",
    "        \n",
    "        sinh_vec = np.array([np.sinh(2*(z[0].imag)) , np.sinh(2*(z[1].imag))])\n",
    "        prod_term = np.dot(f_comp(z), np.conjugate(grad_f_comp(z) )) + np.dot(2*1j*(gamma**2), sinh_vec)\n",
    "        \n",
    "        z1 = z - np.dot(inverse_term, prod_term)\n",
    "                \n",
    "        z = z1\n",
    "        k += 1\n",
    " \n",
    "        if (np.linalg.norm(z - local_min_com) <= 1e-5):\n",
    "            comp_points_to_local_1.append(z0)           \n",
    "            break\n",
    "    \n",
    "        if (np.linalg.norm(z - global_min_com) <= 1e-5):\n",
    "            comp_points_to_global.append(z0)        \n",
    "            break\n",
    "            \n",
    "        if (np.linalg.norm(z - saddle_point_com) <= 1e-5):\n",
    "            comp_points_to_saddle.append(z0)        \n",
    "            break\n",
    "\n",
    "        if (np.linalg.norm(z) >= R):\n",
    "            comp_divergence_points.append(z0)\n",
    "            break\n",
    "            \n",
    "        if (k >= 10**6):\n",
    "            comp_not_conver_points.append(z0)\n",
    "            break\n",
    "    \n",
    "end_time=datetime.now()\n",
    "Time_work = (end_time-start_time).total_seconds()  \n",
    "print ('Time (seconds)=' , Time_work)"
   ]
  },
  {
   "cell_type": "code",
   "execution_count": 19,
   "id": "50298fbd",
   "metadata": {
    "scrolled": true
   },
   "outputs": [
    {
     "name": "stdout",
     "output_type": "stream",
     "text": [
      "The number of initial points for convergence to local min 1 = 0\n"
     ]
    }
   ],
   "source": [
    "print ('The number of initial points for convergence to local min 1 =' , len(comp_points_to_local_1))   "
   ]
  },
  {
   "cell_type": "code",
   "execution_count": 20,
   "id": "8c555368",
   "metadata": {},
   "outputs": [
    {
     "name": "stdout",
     "output_type": "stream",
     "text": [
      "The number of initial points for convergence to global min = 625\n"
     ]
    }
   ],
   "source": [
    "print ('The number of initial points for convergence to global min =' , len(comp_points_to_global)) "
   ]
  },
  {
   "cell_type": "code",
   "execution_count": 21,
   "id": "e97fd136",
   "metadata": {},
   "outputs": [
    {
     "name": "stdout",
     "output_type": "stream",
     "text": [
      "The number of initial points for convergence to saddle = 0\n"
     ]
    }
   ],
   "source": [
    "print ('The number of initial points for convergence to saddle =' , len(comp_points_to_saddle))  "
   ]
  },
  {
   "cell_type": "code",
   "execution_count": 22,
   "id": "c1f23a9b",
   "metadata": {},
   "outputs": [
    {
     "data": {
      "text/plain": [
       "[]"
      ]
     },
     "execution_count": 22,
     "metadata": {},
     "output_type": "execute_result"
    }
   ],
   "source": [
    "comp_points_to_saddle"
   ]
  },
  {
   "cell_type": "code",
   "execution_count": 23,
   "id": "60f190b9",
   "metadata": {},
   "outputs": [
    {
     "name": "stdout",
     "output_type": "stream",
     "text": [
      "The number of initial points for divergence = 0\n"
     ]
    }
   ],
   "source": [
    "print ('The number of initial points for divergence =' , len(comp_divergence_points))  # divergence  "
   ]
  },
  {
   "cell_type": "code",
   "execution_count": 24,
   "id": "54f9c6b0",
   "metadata": {},
   "outputs": [
    {
     "data": {
      "text/plain": [
       "[]"
      ]
     },
     "execution_count": 24,
     "metadata": {},
     "output_type": "execute_result"
    }
   ],
   "source": [
    "comp_divergence_points"
   ]
  },
  {
   "cell_type": "code",
   "execution_count": 25,
   "id": "8e5cd4ba",
   "metadata": {},
   "outputs": [
    {
     "name": "stdout",
     "output_type": "stream",
     "text": [
      "The number of initial points for not convergence after 1000000 iterations = 0\n"
     ]
    }
   ],
   "source": [
    "print ('The number of initial points for not convergence after 1000000 iterations =', len(comp_not_conver_points) )"
   ]
  },
  {
   "cell_type": "code",
   "execution_count": 26,
   "id": "b5ec4cf4",
   "metadata": {},
   "outputs": [
    {
     "data": {
      "text/plain": [
       "[]"
      ]
     },
     "execution_count": 26,
     "metadata": {},
     "output_type": "execute_result"
    }
   ],
   "source": [
    "comp_not_conver_points"
   ]
  },
  {
   "cell_type": "code",
   "execution_count": 27,
   "id": "80242cfb",
   "metadata": {},
   "outputs": [
    {
     "data": {
      "image/png": "[encoded data removed]",
      "text/plain": [
       "<Figure size 720x576 with 1 Axes>"
      ]
     },
     "metadata": {
      "needs_background": "light"
     },
     "output_type": "display_data"
    }
   ],
   "source": [
    "plt.figure(figsize=(10, 8))\n",
    "\n",
    "x_local_min1 = [w[0].real for w in comp_points_to_local_1]   # local min \n",
    "y_local_min1 = [w[1].real for w in comp_points_to_local_1]\n",
    "\n",
    "x_global_min = [w[0].real for w in comp_points_to_global]    # global min\n",
    "y_global_min = [w[1].real for w in comp_points_to_global]\n",
    "\n",
    "x_saddle = [w[0].real for w in comp_points_to_saddle]        # saddle point\n",
    "y_saddle = [w[1].real for w in comp_points_to_saddle]\n",
    "\n",
    "x_divergence = [w[0].real for w in comp_divergence_points]   # divergence  \n",
    "y_divergence = [w[1].real for w in comp_divergence_points]\n",
    "\n",
    "x_not_convergence = [w[0].real for w in comp_not_conver_points]  # not convergence after 10^6 iterations\n",
    "y_not_convergence = [w[1].real for w in comp_not_conver_points]\n",
    "\n",
    "plt.axis([a_1, b_1, a_2, b_2])\n",
    "#plt.grid(1)\n",
    "\n",
    "\n",
    "plt.scatter(x_divergence, y_divergence, label=\"divergence\", color=\"orange\") \n",
    "plt.scatter(x_not_convergence, y_not_convergence, label=\"not conv. after 1m iter.\", color=\"brown\")\n",
    "\n",
    "plt.scatter(x_global_min, y_global_min, label=\"conver. to global\", color=\"y\") \n",
    "plt.scatter(x_local_min1, y_local_min1, label = \"conver. to local 1\", color=\"cyan\")\n",
    "plt.scatter(x_saddle, y_saddle, label = \"conver. to saddle\", color=\"blue\")\n",
    "\n",
    "plt.scatter(localmin_1[0], localmin_1[1], label=\"local min 1\", color=\"red\")\n",
    "plt.scatter(global_min[0], global_min[1], label=\"global min\", color=\"black\") \n",
    "plt.scatter(saddle_point[0], saddle_point[1], label=\"saddle point\", color=\"magenta\")\n",
    "\n",
    "\n",
    "plt.legend(loc='upper center', bbox_to_anchor=(0.5, -0.07),\n",
    "          fancybox=True, shadow=True, ncol=5)\n",
    "\n",
    "#plt.title ('title')\n",
    "\n",
    "plt.show()"
   ]
  }
 ],
 "metadata": {
  "kernelspec": {
   "display_name": "Python 3 (ipykernel)",
   "language": "python",
   "name": "python3"
  },
  "language_info": {
   "codemirror_mode": {
    "name": "ipython",
    "version": 3
   },
   "file_extension": ".py",
   "mimetype": "text/x-python",
   "name": "python",
   "nbconvert_exporter": "python",
   "pygments_lexer": "ipython3",
   "version": "3.10.13"
  }
 },
 "nbformat": 4,
 "nbformat_minor": 5
}
